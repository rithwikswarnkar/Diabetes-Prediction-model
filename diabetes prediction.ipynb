{
 "cells": [
  {
   "cell_type": "markdown",
   "id": "c2309b83",
   "metadata": {},
   "source": [
    "# Diabetes Prediction Using Machine Learning\n",
    "## Rithwik Swarnkar\n",
    "\n",
    "This program aims to predict the likelihood of diabetes in patients using clinical data and advanced machine learning techniques. The workflow includes data cleaning, handling missing values, addressing class imbalance with SMOTE and related methods, feature engineering, and model training using algorithms such as XGBoost, Random Forest, and Logistic Regression. The program also explores ensemble methods and evaluates model performance using various metrics. The goal is to build a robust and interpretable model that can assist in early detection of diabetes, supporting better clinical decision-making."
   ]
  },
  {
   "cell_type": "markdown",
   "id": "a768958a",
   "metadata": {
    "vscode": {
     "languageId": "markdown"
    }
   },
   "source": [
    "# Introduction\n",
    "\n",
    "This notebook presents a comprehensive workflow for predicting diabetes using machine learning techniques. The goal is to develop an interpretable model that can assist healthcare professionals in early detection of diabetes, ultimately supporting better clinical decision-making. The dataset contains various clinical features such as glucose level, blood pressure, BMI, and more, which are used to predict the likelihood of diabetes in patients.\n",
    "\n",
    "## Outline of the Code\n",
    "\n",
    "1. **Data Loading and Exploration**\n",
    "    - Import necessary libraries and load the dataset.\n",
    "    - Perform initial data exploration to understand the structure and distribution of the data.\n",
    "\n",
    "2. **Data Cleaning and Preprocessing**\n",
    "    - Identify and handle missing or invalid values.\n",
    "    - Drop features with excessive missing or unreliable data.\n",
    "    - Impute missing values using appropriate statistical methods.\n",
    "\n",
    "3. **Handling Class Imbalance**\n",
    "    - Analyze the distribution of the target variable.\n",
    "    - Apply resampling techniques such as SMOTE, Borderline-SMOTE, and SMOTEENN to address class imbalance.\n",
    "\n",
    "4. **Feature Engineering**\n",
    "    - Create new features and interaction terms to enhance model performance.\n",
    "    - Apply transformations to improve feature distributions.\n",
    "\n",
    "5. **Model Training and Evaluation**\n",
    "    - Train multiple machine learning models including XGBoost, Random Forest, and Logistic Regression.\n",
    "    - Use ensemble methods (Voting Classifier) to combine model predictions.\n",
    "    - Tune hyperparameters using RandomizedSearchCV.\n",
    "    - Evaluate models using metrics such as accuracy, precision, recall, F1-score, and confusion matrix.\n",
    "\n",
    "6. **Feature Importance and Interpretation**\n",
    "    - Analyze feature importances from the best-performing model.\n",
    "    - Visualize and interpret the most influential features.\n",
    "\n"
   ]
  },
  {
   "cell_type": "markdown",
   "id": "987c6d52",
   "metadata": {},
   "source": [
    "The following code loads a CSV file containing diabetes prediction data into a pandas DataFrame, displays the top 5 rows, and prints basic information and statistical summary of the dataset. CSV file was downloaded from an online Kaggle Database - *Pima Indians Diabetes Database*. **Collaborators: UCI Machine Learning (Owner), Kaggle Team (Admin)**."
   ]
  },
  {
   "cell_type": "code",
   "execution_count": 1,
   "id": "1bc4611b",
   "metadata": {},
   "outputs": [
    {
     "name": "stdout",
     "output_type": "stream",
     "text": [
      "   Pregnancies  Glucose  BloodPressure  SkinThickness  Insulin   BMI  \\\n",
      "0            6      148             72             35        0  33.6   \n",
      "1            1       85             66             29        0  26.6   \n",
      "2            8      183             64              0        0  23.3   \n",
      "3            1       89             66             23       94  28.1   \n",
      "4            0      137             40             35      168  43.1   \n",
      "\n",
      "   DiabetesPedigreeFunction  Age  Outcome  \n",
      "0                     0.627   50        1  \n",
      "1                     0.351   31        0  \n",
      "2                     0.672   32        1  \n",
      "3                     0.167   21        0  \n",
      "4                     2.288   33        1  \n",
      "<class 'pandas.core.frame.DataFrame'>\n",
      "RangeIndex: 768 entries, 0 to 767\n",
      "Data columns (total 9 columns):\n",
      " #   Column                    Non-Null Count  Dtype  \n",
      "---  ------                    --------------  -----  \n",
      " 0   Pregnancies               768 non-null    int64  \n",
      " 1   Glucose                   768 non-null    int64  \n",
      " 2   BloodPressure             768 non-null    int64  \n",
      " 3   SkinThickness             768 non-null    int64  \n",
      " 4   Insulin                   768 non-null    int64  \n",
      " 5   BMI                       768 non-null    float64\n",
      " 6   DiabetesPedigreeFunction  768 non-null    float64\n",
      " 7   Age                       768 non-null    int64  \n",
      " 8   Outcome                   768 non-null    int64  \n",
      "dtypes: float64(2), int64(7)\n",
      "memory usage: 54.1 KB\n",
      "None\n",
      "       Pregnancies     Glucose  BloodPressure  SkinThickness     Insulin  \\\n",
      "count   768.000000  768.000000     768.000000     768.000000  768.000000   \n",
      "mean      3.845052  120.894531      69.105469      20.536458   79.799479   \n",
      "std       3.369578   31.972618      19.355807      15.952218  115.244002   \n",
      "min       0.000000    0.000000       0.000000       0.000000    0.000000   \n",
      "25%       1.000000   99.000000      62.000000       0.000000    0.000000   \n",
      "50%       3.000000  117.000000      72.000000      23.000000   30.500000   \n",
      "75%       6.000000  140.250000      80.000000      32.000000  127.250000   \n",
      "max      17.000000  199.000000     122.000000      99.000000  846.000000   \n",
      "\n",
      "              BMI  DiabetesPedigreeFunction         Age     Outcome  \n",
      "count  768.000000                768.000000  768.000000  768.000000  \n",
      "mean    31.992578                  0.471876   33.240885    0.348958  \n",
      "std      7.884160                  0.331329   11.760232    0.476951  \n",
      "min      0.000000                  0.078000   21.000000    0.000000  \n",
      "25%     27.300000                  0.243750   24.000000    0.000000  \n",
      "50%     32.000000                  0.372500   29.000000    0.000000  \n",
      "75%     36.600000                  0.626250   41.000000    1.000000  \n",
      "max     67.100000                  2.420000   81.000000    1.000000  \n"
     ]
    }
   ],
   "source": [
    "import pandas as pd\n",
    "\n",
    "# Load dataset\n",
    "df = pd.read_csv(r\"C:\\Users\\roar7\\OneDrive\\Documents\\AI\\DATA\\diabetes prediction\\diabetes.csv\")\n",
    "\n",
    "# Show top 5 rows\n",
    "print(df.head())\n",
    "\n",
    "# Basic info\n",
    "print(df.info())\n",
    "print(df.describe())\n"
   ]
  },
  {
   "cell_type": "markdown",
   "id": "c5379c44",
   "metadata": {},
   "source": [
    "This code prints the normalized proportions and raw counts of the 'Outcome' column, which indicates whether a person is diabetic (1) or non-diabetic (0).\n",
    "\n",
    "\n",
    "\n"
   ]
  },
  {
   "cell_type": "code",
   "execution_count": 2,
   "id": "1f69b6df",
   "metadata": {},
   "outputs": [
    {
     "name": "stdout",
     "output_type": "stream",
     "text": [
      "Outcome\n",
      "0    0.651042\n",
      "1    0.348958\n",
      "Name: proportion, dtype: float64\n",
      "Outcome\n",
      "0    500\n",
      "1    268\n",
      "Name: count, dtype: int64\n"
     ]
    }
   ],
   "source": [
    "# target column is named 'Outcome' (1 = diabetic, 0 = non-diabetic)\n",
    "print(df['Outcome'].value_counts(normalize=True))  # Proportion\n",
    "print(df['Outcome'].value_counts())                # Raw counts"
   ]
  },
  {
   "cell_type": "markdown",
   "id": "7f79b3df",
   "metadata": {},
   "source": [
    "This code identifies columns where a value of 0 is considered invalid or missing, counts the number of zero values in each of these columns, and then retrieves and displays the number of rows containing any invalid zeros."
   ]
  },
  {
   "cell_type": "code",
   "execution_count": 3,
   "id": "a48b8c91",
   "metadata": {},
   "outputs": [
    {
     "name": "stdout",
     "output_type": "stream",
     "text": [
      "Glucose: 5 zeros\n",
      "BloodPressure: 35 zeros\n",
      "SkinThickness: 227 zeros\n",
      "Insulin: 374 zeros\n",
      "BMI: 11 zeros\n",
      "Number of rows with invalid zeros: 376\n"
     ]
    }
   ],
   "source": [
    "# Features where 0 is invalid/missing\n",
    "invalid_zero_cols = ['Glucose', 'BloodPressure', 'SkinThickness', 'Insulin', 'BMI']\n",
    "\n",
    "# Count of zero values per column\n",
    "for col in invalid_zero_cols:\n",
    "    zero_count = (df[col] == 0).sum()\n",
    "    print(f'{col}: {zero_count} zeros')\n",
    "\n",
    "# Get rows with any zero in these columns\n",
    "invalid_rows = df[(df[invalid_zero_cols] == 0).any(axis=1)]\n",
    "print(f'Number of rows with invalid zeros: {len(invalid_rows)}')\n"
   ]
  },
  {
   "cell_type": "markdown",
   "id": "8cfadb1f",
   "metadata": {},
   "source": [
    "This code drops the 'Insulin' column from the dataset due to a high number of zero values, which are often poorly measured in clinical data.\n"
   ]
  },
  {
   "cell_type": "code",
   "execution_count": 4,
   "id": "753d6f82",
   "metadata": {},
   "outputs": [],
   "source": [
    "#drop insulin column\n",
    "#insulin has many zeros and is often not measured\n",
    "\n",
    "df = df.drop(columns=['Insulin'])\n"
   ]
  },
  {
   "cell_type": "markdown",
   "id": "23528fdf",
   "metadata": {},
   "source": [
    "This code replaces invalid zero values with NaN in the specified columns ('Glucose', 'BloodPressure', 'SkinThickness', 'BMI') to handle missing or poorly measured data.\n"
   ]
  },
  {
   "cell_type": "code",
   "execution_count": 5,
   "id": "59ef5dcd",
   "metadata": {},
   "outputs": [],
   "source": [
    "import numpy as np\n",
    "\n",
    "# Replace invalid zeros with NaN for specific columns\n",
    "cols_with_invalid_zeros = ['Glucose', 'BloodPressure', 'SkinThickness', 'BMI']\n",
    "df[cols_with_invalid_zeros] = df[cols_with_invalid_zeros].replace(0, np.nan)\n"
   ]
  },
  {
   "cell_type": "markdown",
   "id": "191d8907",
   "metadata": {},
   "source": [
    "This code imputes missing values (NaN) in the specified columns ('Glucose', 'BloodPressure', 'SkinThickness', 'BMI') with the median value of each respective column.\n"
   ]
  },
  {
   "cell_type": "code",
   "execution_count": 6,
   "id": "3c4f2f3d",
   "metadata": {},
   "outputs": [
    {
     "name": "stderr",
     "output_type": "stream",
     "text": [
      "C:\\Users\\roar7\\AppData\\Local\\Temp\\ipykernel_7448\\4182132496.py:3: FutureWarning: A value is trying to be set on a copy of a DataFrame or Series through chained assignment using an inplace method.\n",
      "The behavior will change in pandas 3.0. This inplace method will never work because the intermediate object on which we are setting values always behaves as a copy.\n",
      "\n",
      "For example, when doing 'df[col].method(value, inplace=True)', try using 'df.method({col: value}, inplace=True)' or df[col] = df[col].method(value) instead, to perform the operation inplace on the original object.\n",
      "\n",
      "\n",
      "  df[col].fillna(df[col].median(), inplace=True)\n"
     ]
    }
   ],
   "source": [
    "#Impute missing values with median\n",
    "for col in cols_with_invalid_zeros:\n",
    "    df[col].fillna(df[col].median(), inplace=True)"
   ]
  },
  {
   "cell_type": "markdown",
   "id": "82fe78ec",
   "metadata": {},
   "source": [
    "This code prints the total number of missing (null) values per column and displays the updated DataFrame information, including data types and non-null counts.\n"
   ]
  },
  {
   "cell_type": "code",
   "execution_count": 7,
   "id": "10cd4a14",
   "metadata": {},
   "outputs": [
    {
     "name": "stdout",
     "output_type": "stream",
     "text": [
      "Pregnancies                 0\n",
      "Glucose                     0\n",
      "BloodPressure               0\n",
      "SkinThickness               0\n",
      "BMI                         0\n",
      "DiabetesPedigreeFunction    0\n",
      "Age                         0\n",
      "Outcome                     0\n",
      "dtype: int64\n",
      "<class 'pandas.core.frame.DataFrame'>\n",
      "RangeIndex: 768 entries, 0 to 767\n",
      "Data columns (total 8 columns):\n",
      " #   Column                    Non-Null Count  Dtype  \n",
      "---  ------                    --------------  -----  \n",
      " 0   Pregnancies               768 non-null    int64  \n",
      " 1   Glucose                   768 non-null    float64\n",
      " 2   BloodPressure             768 non-null    float64\n",
      " 3   SkinThickness             768 non-null    float64\n",
      " 4   BMI                       768 non-null    float64\n",
      " 5   DiabetesPedigreeFunction  768 non-null    float64\n",
      " 6   Age                       768 non-null    int64  \n",
      " 7   Outcome                   768 non-null    int64  \n",
      "dtypes: float64(5), int64(3)\n",
      "memory usage: 48.1 KB\n",
      "None\n"
     ]
    }
   ],
   "source": [
    "print(df.isnull().sum())\n",
    "print(df.info())\n",
    "\n"
   ]
  },
  {
   "cell_type": "markdown",
   "id": "d450c80a",
   "metadata": {},
   "source": [
    "This code performs several steps for preparing the dataset for model training, focusing on splitting the data, handling class imbalance, and preparing feature sets:\n",
    "\n",
    "1. **Data Splitting**: It splits the dataset into features (`X`) and target (`y`), then further divides the data into training, validation, and test sets using a 70-15-15 split, ensuring the distribution of the target variable ('Outcome') is maintained across all subsets through stratification.\n",
    "2. **Class Distribution**: It prints the class distribution for each set (train, validation, test) to understand any potential imbalance.\n",
    "3. **SMOTE for Imbalance Handling**: It applies Synthetic Minority Over-sampling Technique (SMOTE) on the training data to address class imbalance, generating synthetic samples of the minority class (diabetic) to balance the dataset.\n",
    "4. **Final Output**: The script outputs the shape and class distribution of the resampled training data and confirms that the features in the training set remain intact.\n",
    "\n",
    "After this, the resampled training data (`X_train_resampled`, `y_train_resampled`) can be used for model training, with validation data reserved for hyperparameter tuning and test data for final evaluation.\n"
   ]
  },
  {
   "cell_type": "code",
   "execution_count": 8,
   "id": "0185c356",
   "metadata": {},
   "outputs": [
    {
     "name": "stdout",
     "output_type": "stream",
     "text": [
      "Original features shape: (768, 7)\n",
      "Feature columns: ['Pregnancies', 'Glucose', 'BloodPressure', 'SkinThickness', 'BMI', 'DiabetesPedigreeFunction', 'Age']\n",
      "Train class distribution before resampling: Counter({0: 350, 1: 187})\n",
      "Validation class distribution: Counter({0: 75, 1: 40})\n",
      "Test class distribution: Counter({0: 75, 1: 41})\n",
      "X_train shape: (537, 7)\n",
      "X_val shape: (115, 7)\n",
      "X_test shape: (116, 7)\n",
      "Train class distribution after SMOTE: Counter({1: 350, 0: 350})\n",
      "X_train_resampled shape: (700, 7)\n"
     ]
    }
   ],
   "source": [
    "from sklearn.model_selection import train_test_split\n",
    "from imblearn.over_sampling import SMOTE\n",
    "from collections import Counter\n",
    "import pandas as pd\n",
    "\n",
    "X = df.drop('Outcome', axis=1)  # features\n",
    "y = df['Outcome']               # target\n",
    "print(f\"Original features shape: {X.shape}\")  # Should be (num_samples, 11)\n",
    "print(f\"Feature columns: {X.columns.tolist()}\")\n",
    "\n",
    "# 1. Split into train + temp (validation + test)\n",
    "X_train, X_temp, y_train, y_temp = train_test_split(\n",
    "    X, y, test_size=0.30, random_state=42, stratify=y)\n",
    "\n",
    "# 2. Split temp into validation + test\n",
    "X_val, X_test, y_val, y_test = train_test_split(\n",
    "    X_temp, y_temp, test_size=0.50, random_state=42, stratify=y_temp)\n",
    "\n",
    "print(f'Train class distribution before resampling: {Counter(y_train)}')\n",
    "print(f'Validation class distribution: {Counter(y_val)}')\n",
    "print(f'Test class distribution: {Counter(y_test)}')\n",
    "print(f\"X_train shape: {X_train.shape}\")     # Should be (num_train_samples, 11)\n",
    "print(f\"X_val shape: {X_val.shape}\")         # Should be (num_val_samples, 11)\n",
    "print(f\"X_test shape: {X_test.shape}\")       # Should be (num_test_samples, 11)\n",
    "\n",
    "# 3. Handle imbalance on training data only (using SMOTE)\n",
    "smote = SMOTE(random_state=42)\n",
    "X_train_resampled, y_train_resampled = smote.fit_resample(X_train, y_train)\n",
    "\n",
    "print(f'Train class distribution after SMOTE: {Counter(y_train_resampled)}')\n",
    "print(f\"X_train_resampled shape: {X_train_resampled.shape}\")  # Should also have 11 features\n",
    "\n",
    "#  use X_train_resampled, y_train_resampled for training your model\n",
    "#  use X_val, y_val for hyperparameter tuning\n",
    "#  X_test, y_test for final evaluation\n"
   ]
  },
  {
   "cell_type": "markdown",
   "id": "138fe578",
   "metadata": {},
   "source": [
    "This code sets up and tunes an XGBoost classifier to predict diabetes, following these key steps:\n",
    "\n",
    "1. **Baseline Model**: It initializes an XGBoost classifier (`XGBClassifier`) with specific settings: disabling label encoding, using log-loss as the evaluation metric, and setting a fixed random state for reproducibility.\n",
    "   \n",
    "2. **Hyperparameter Tuning**: A hyperparameter grid (`param_dist`) is defined with various candidate values for parameters like `n_estimators`, `max_depth`, `learning_rate`, `subsample`, `colsample_bytree`, `gamma`, and regularization terms (`reg_alpha`, `reg_lambda`). These parameters control the complexity, regularization, and learning rate of the XGBoost model.\n",
    "\n",
    "3. **Randomized Search for Optimization**: A `RandomizedSearchCV` is used to search for the best combination of hyperparameters. With 30 iterations and 3-fold cross-validation, this search uses the F1 score as the evaluation metric, which balances precision and recall. It also utilizes multiple CPU cores (`n_jobs=-1`) for faster execution.\n",
    "\n",
    "4. **Training and Evaluation**: The search is performed on the SMOTE-resampled training data (`X_train_resampled`, `y_train_resampled`), and after the best parameters are found, the model is evaluated on the validation set using `classification_report`, which provides precision, recall, and F1 score metrics.\n",
    "\n",
    "Finally, once the best model is identified, it can be applied to the test set for final evaluation. This process ensures that the model is tuned for optimal performance on both imbalanced data and unseen samples.\n"
   ]
  },
  {
   "cell_type": "code",
   "execution_count": 9,
   "id": "7a2af9a7",
   "metadata": {},
   "outputs": [
    {
     "name": "stdout",
     "output_type": "stream",
     "text": [
      "Fitting 3 folds for each of 30 candidates, totalling 90 fits\n",
      "Best parameters: {'subsample': 0.6, 'reg_lambda': 2, 'reg_alpha': 0, 'n_estimators': 300, 'max_depth': 7, 'learning_rate': 0.05, 'gamma': 0, 'colsample_bytree': 1.0}\n",
      "              precision    recall  f1-score   support\n",
      "\n",
      "           0       0.82      0.75      0.78        75\n",
      "           1       0.60      0.70      0.64        40\n",
      "\n",
      "    accuracy                           0.73       115\n",
      "   macro avg       0.71      0.72      0.71       115\n",
      "weighted avg       0.74      0.73      0.73       115\n",
      "\n"
     ]
    },
    {
     "name": "stderr",
     "output_type": "stream",
     "text": [
      "c:\\Users\\roar7\\.conda\\envs\\LearnAI\\lib\\site-packages\\xgboost\\training.py:183: UserWarning: [14:37:27] WARNING: C:\\actions-runner\\_work\\xgboost\\xgboost\\src\\learner.cc:738: \n",
      "Parameters: { \"use_label_encoder\" } are not used.\n",
      "\n",
      "  bst.update(dtrain, iteration=i, fobj=obj)\n"
     ]
    }
   ],
   "source": [
    "import xgboost as xgb\n",
    "from sklearn.model_selection import RandomizedSearchCV\n",
    "from sklearn.metrics import classification_report, confusion_matrix\n",
    "\n",
    "# 1. Baseline model\n",
    "xgb_clf = xgb.XGBClassifier(use_label_encoder=False, eval_metric='logloss', random_state=42)\n",
    "\n",
    "# 2. Hyperparameter grid for RandomizedSearchCV\n",
    "param_dist = {\n",
    "    'n_estimators': [100, 200, 300],\n",
    "    'max_depth': [3, 5, 7, 9],\n",
    "    'learning_rate': [0.01, 0.05, 0.1, 0.2],\n",
    "    'subsample': [0.6, 0.8, 1.0],\n",
    "    'colsample_bytree': [0.6, 0.8, 1.0],\n",
    "    'gamma': [0, 0.1, 0.2],\n",
    "    'reg_alpha': [0, 0.01, 0.1],\n",
    "    'reg_lambda': [1, 1.5, 2]\n",
    "}\n",
    "\n",
    "# 3. Randomized Search\n",
    "random_search = RandomizedSearchCV(\n",
    "    xgb_clf, param_distributions=param_dist,\n",
    "    n_iter=30, scoring='f1', # F1 balances precision & recall\n",
    "    cv=3, verbose=2, random_state=42, n_jobs=-1\n",
    ")\n",
    "\n",
    "# Fit on training data (SMOTE-resampled)\n",
    "random_search.fit(X_train_resampled, y_train_resampled)\n",
    "\n",
    "print(\"Best parameters:\", random_search.best_params_)\n",
    "\n",
    "# 4. Evaluate on validation data\n",
    "y_val_pred = random_search.predict(X_val)\n",
    "print(classification_report(y_val, y_val_pred))\n"
   ]
  },
  {
   "cell_type": "markdown",
   "id": "12c7d4ab",
   "metadata": {},
   "source": [
    "This code evaluates the model's performance on the validation set by adjusting the decision threshold for classification:\n",
    "\n",
    "1. **Predict Probabilities**: It first predicts the class probabilities for the positive class (class 1) on the validation data (`X_val`), using the `predict_proba()` method. The output is the probability of each instance belonging to class 1, which is selected with `[:, 1]`.\n",
    "\n",
    "2. **Adjusting the Threshold**: Instead of using the default threshold of 0.5 for classifying predictions, a new threshold of 0.4 is applied. If the probability for class 1 is greater than or equal to 0.4, the prediction is classified as class 1 (diabetic); otherwise, it is classified as class 0 (non-diabetic). This allows for a more lenient classification, potentially increasing the sensitivity (recall) of the model.\n",
    "\n",
    "3. **Evaluation**: It then evaluates the modified predictions (`y_val_pred_new`) against the true labels (`y_val`) using the `classification_report`, which provides precision, recall, F1-score, and support for both classes. \n",
    "\n",
    "By adjusting the threshold, the model might show improved performance in predicting the minority class (diabetic), especially in cases where false negatives are costly.\n"
   ]
  },
  {
   "cell_type": "code",
   "execution_count": 19,
   "id": "652ad4fe",
   "metadata": {},
   "outputs": [
    {
     "data": {
      "image/png": "[encoded data removed]",
      "text/plain": [
       "<Figure size 640x480 with 1 Axes>"
      ]
     },
     "metadata": {},
     "output_type": "display_data"
    },
    {
     "name": "stdout",
     "output_type": "stream",
     "text": [
      "              precision    recall  f1-score   support\n",
      "\n",
      "           0       0.86      0.73      0.79        75\n",
      "           1       0.61      0.78      0.68        40\n",
      "\n",
      "    accuracy                           0.75       115\n",
      "   macro avg       0.73      0.75      0.74       115\n",
      "weighted avg       0.77      0.75      0.75       115\n",
      "\n"
     ]
    }
   ],
   "source": [
    "import numpy as np\n",
    "\n",
    "# Predict probabilities for class 1\n",
    "y_val_proba = random_search.predict_proba(X_val)[:, 1]\n",
    "from sklearn.metrics import roc_curve, auc\n",
    "import matplotlib.pyplot as plt\n",
    "\n",
    "# Compute ROC curve and AUC\n",
    "fpr, tpr, thresholds = roc_curve(y_val, y_val_proba)\n",
    "roc_auc = auc(fpr, tpr)\n",
    "\n",
    "# Plot ROC curve\n",
    "plt.figure()\n",
    "plt.plot(fpr, tpr, color='darkorange', lw=2, label=f'ROC curve (AUC = {roc_auc:.2f})')\n",
    "plt.plot([0, 1], [0, 1], color='navy', lw=2, linestyle='--')\n",
    "plt.xlabel('False Positive Rate')\n",
    "plt.ylabel('True Positive Rate')\n",
    "plt.title('ROC Curve - XGBoost (RandomizedSearchCV)')\n",
    "plt.legend(loc=\"lower right\")\n",
    "plt.grid()\n",
    "plt.show()\n",
    "\n",
    "\n",
    "# Try threshold 0.4 instead of 0.5\n",
    "threshold = 0.4\n",
    "y_val_pred_new = (y_val_proba >= threshold).astype(int)\n",
    "\n",
    "from sklearn.metrics import classification_report\n",
    "print(classification_report(y_val, y_val_pred_new))\n"
   ]
  },
  {
   "cell_type": "markdown",
   "id": "77037a45",
   "metadata": {},
   "source": [
    "This code creates an ensemble model using three classifiers (RandomForest, XGBoost, and Logistic Regression) and evaluates its performance on the validation set:\n",
    "\n",
    "1. **Model Instantiation**: \n",
    "   - A **RandomForestClassifier** (`rf`) is initialized with 200 estimators and a maximum depth of 7.\n",
    "   - An **XGBoost** classifier (`xgb`) is created using the best hyperparameters found from the previous random search.\n",
    "   - A **Logistic Regression** model (`lr`) is initialized with a maximum of 1000 iterations.\n",
    "\n",
    "2. **Voting Classifier**: \n",
    "   - A **VotingClassifier** is instantiated to combine the three models using *soft voting*, meaning the final prediction is based on the predicted probabilities of each classifier. The class with the highest average predicted probability is selected as the final prediction.\n",
    "\n",
    "3. **Training the Ensemble**: \n",
    "   - The ensemble model is trained on the SMOTE-resampled training data (`X_train_resampled`, `y_train_resampled`).\n",
    "\n",
    "4. **Evaluation**: \n",
    "   - The ensemble's performance is evaluated on the validation set using `classification_report`, which provides precision, recall, F1-score, and support for both classes.\n",
    "\n",
    "This approach leverages the strengths of multiple models to improve prediction accuracy, especially when facing class imbalance. The combination of Random Forest, XGBoost, and Logistic Regression allows the ensemble to make more robust decisions by capturing different patterns from the data.\n"
   ]
  },
  {
   "cell_type": "code",
   "execution_count": 11,
   "id": "77a9aed1",
   "metadata": {},
   "outputs": [
    {
     "name": "stderr",
     "output_type": "stream",
     "text": [
      "c:\\Users\\roar7\\.conda\\envs\\LearnAI\\lib\\site-packages\\xgboost\\training.py:183: UserWarning: [14:37:28] WARNING: C:\\actions-runner\\_work\\xgboost\\xgboost\\src\\learner.cc:738: \n",
      "Parameters: { \"use_label_encoder\" } are not used.\n",
      "\n",
      "  bst.update(dtrain, iteration=i, fobj=obj)\n"
     ]
    },
    {
     "name": "stdout",
     "output_type": "stream",
     "text": [
      "              precision    recall  f1-score   support\n",
      "\n",
      "           0       0.83      0.73      0.78        75\n",
      "           1       0.59      0.72      0.65        40\n",
      "\n",
      "    accuracy                           0.73       115\n",
      "   macro avg       0.71      0.73      0.72       115\n",
      "weighted avg       0.75      0.73      0.74       115\n",
      "\n"
     ]
    }
   ],
   "source": [
    "from sklearn.ensemble import RandomForestClassifier, VotingClassifier\n",
    "from sklearn.linear_model import LogisticRegression\n",
    "from sklearn.metrics import classification_report\n",
    "\n",
    "# Instantiate models\n",
    "rf = RandomForestClassifier(random_state=42, n_estimators=200, max_depth=7)\n",
    "xgb = xgb.XGBClassifier(**random_search.best_params_, use_label_encoder=False, eval_metric='logloss', random_state=42)\n",
    "lr = LogisticRegression(max_iter=1000, random_state=42)\n",
    "\n",
    "# Ensemble soft voting based on predicted probabilities\n",
    "ensemble = VotingClassifier(\n",
    "    estimators=[('rf', rf), ('xgb', xgb), ('lr', lr)],\n",
    "    voting='soft'\n",
    ")\n",
    "\n",
    "# Train ensemble on SMOTE data\n",
    "ensemble.fit(X_train_resampled, y_train_resampled)\n",
    "\n",
    "# Predict & evaluate on validation set\n",
    "y_val_pred_ensemble = ensemble.predict(X_val)\n",
    "print(classification_report(y_val, y_val_pred_ensemble))\n"
   ]
  },
  {
   "cell_type": "markdown",
   "id": "c28959b9",
   "metadata": {},
   "source": [
    "This code evaluates the impact of two advanced resampling techniques, **Borderline-SMOTE** and **SMOTEENN**, on the ensemble model’s performance:\n",
    "\n",
    "1. **Borderline-SMOTE**: \n",
    "   - The code first applies **BorderlineSMOTE** to the training data, which focuses on creating synthetic samples near the decision boundary of the minority class. This technique helps address the issue of misclassification near the decision boundary, potentially improving model sensitivity to hard-to-classify samples.\n",
    "   - The ensemble model is then trained on this newly resampled data (`X_train_bl`, `y_train_bl`).\n",
    "   - The model's performance is evaluated on the validation set, and a `classification_report` is printed to show the precision, recall, and F1-score for both classes.\n",
    "\n",
    "2. **SMOTEENN**:\n",
    "   - Next, **SMOTEENN** is applied, which combines **SMOTE** (for oversampling) and **ENN** (for cleaning noisy samples through instance removal). This technique both balances the dataset and helps eliminate ambiguous samples that could negatively impact model performance.\n",
    "   - The ensemble model is retrained on the SMOTEENN-resampled data (`X_train_se`, `y_train_se`).\n",
    "   - Again, the performance on the validation set is evaluated, and a `classification_report` is printed.\n",
    "\n",
    "By comparing the results of these two resampling techniques, the code aims to identify which approach improves model performance in terms of precision, recall, and F1-score, particularly for the minority class (diabetic).\n"
   ]
  },
  {
   "cell_type": "code",
   "execution_count": 12,
   "id": "6e68613b",
   "metadata": {},
   "outputs": [
    {
     "name": "stderr",
     "output_type": "stream",
     "text": [
      "c:\\Users\\roar7\\.conda\\envs\\LearnAI\\lib\\site-packages\\xgboost\\training.py:183: UserWarning: [14:37:28] WARNING: C:\\actions-runner\\_work\\xgboost\\xgboost\\src\\learner.cc:738: \n",
      "Parameters: { \"use_label_encoder\" } are not used.\n",
      "\n",
      "  bst.update(dtrain, iteration=i, fobj=obj)\n"
     ]
    },
    {
     "name": "stdout",
     "output_type": "stream",
     "text": [
      "Borderline-SMOTE Results:\n",
      "               precision    recall  f1-score   support\n",
      "\n",
      "           0       0.89      0.72      0.79        75\n",
      "           1       0.61      0.82      0.70        40\n",
      "\n",
      "    accuracy                           0.76       115\n",
      "   macro avg       0.75      0.77      0.75       115\n",
      "weighted avg       0.79      0.76      0.76       115\n",
      "\n",
      "SMOTEENN Results:\n",
      "               precision    recall  f1-score   support\n",
      "\n",
      "           0       0.85      0.63      0.72        75\n",
      "           1       0.53      0.80      0.64        40\n",
      "\n",
      "    accuracy                           0.69       115\n",
      "   macro avg       0.69      0.71      0.68       115\n",
      "weighted avg       0.74      0.69      0.69       115\n",
      "\n"
     ]
    },
    {
     "name": "stderr",
     "output_type": "stream",
     "text": [
      "c:\\Users\\roar7\\.conda\\envs\\LearnAI\\lib\\site-packages\\xgboost\\training.py:183: UserWarning: [14:37:29] WARNING: C:\\actions-runner\\_work\\xgboost\\xgboost\\src\\learner.cc:738: \n",
      "Parameters: { \"use_label_encoder\" } are not used.\n",
      "\n",
      "  bst.update(dtrain, iteration=i, fobj=obj)\n"
     ]
    }
   ],
   "source": [
    "from imblearn.over_sampling import BorderlineSMOTE\n",
    "from imblearn.combine import SMOTEENN\n",
    "\n",
    "# Borderline-SMOTE\n",
    "bl_smote = BorderlineSMOTE(random_state=42)\n",
    "X_train_bl, y_train_bl = bl_smote.fit_resample(X_train, y_train)\n",
    "\n",
    "# Train ensemble on borderline-smote data\n",
    "ensemble.fit(X_train_bl, y_train_bl)\n",
    "y_val_pred_bl = ensemble.predict(X_val)\n",
    "print(\"Borderline-SMOTE Results:\\n\", classification_report(y_val, y_val_pred_bl))\n",
    "\n",
    "# SMOTEENN\n",
    "smoteenn = SMOTEENN(random_state=42)\n",
    "X_train_se, y_train_se = smoteenn.fit_resample(X_train, y_train)\n",
    "\n",
    "# Train ensemble on SMOTEENN data\n",
    "ensemble.fit(X_train_se, y_train_se)\n",
    "y_val_pred_se = ensemble.predict(X_val)\n",
    "print(\"SMOTEENN Results:\\n\", classification_report(y_val, y_val_pred_se))\n"
   ]
  },
  {
   "cell_type": "markdown",
   "id": "e3ea7939",
   "metadata": {},
   "source": [
    "This code defines a function `add_engineered_features` that adds new features to the dataset, which could improve the performance of machine learning models:\n",
    "\n",
    "1. **Interaction Terms**: \n",
    "   - It creates two new features that capture interactions between existing variables:\n",
    "     - `BMI_Age`: The product of the `BMI` and `Age` columns, which may capture age-related variations in BMI.\n",
    "     - `Glucose_BP`: The product of `Glucose` and `BloodPressure`, potentially reflecting the combined effect of glucose levels and blood pressure on diabetes risk.\n",
    "\n",
    "2. **Log Transformation**: \n",
    "   - It applies a log transformation (`np.log1p`) to the `Glucose` and `BMI` columns to reduce skewness in their distributions and handle large values. The `log1p` function is used to ensure that values of 0 are transformed safely by adding 1 before applying the logarithm.\n",
    "\n",
    "The resulting DataFrame now includes these additional features (`BMI_Age`, `Glucose_BP`, `Log_Glucose`, and `Log_BMI`), which can be used for model training to capture more complex relationships and potentially improve model accuracy."
   ]
  },
  {
   "cell_type": "code",
   "execution_count": 13,
   "id": "4a07316e",
   "metadata": {},
   "outputs": [],
   "source": [
    "import numpy as np\n",
    "import pandas as pd\n",
    "\n",
    "def add_engineered_features(df):\n",
    "    df = df.copy()\n",
    "\n",
    "    # Interaction terms\n",
    "    df['BMI_Age'] = df['BMI'] * df['Age']\n",
    "    df['Glucose_BP'] = df['Glucose'] * df['BloodPressure']\n",
    "    \n",
    "    # Log transform for skewed features\n",
    "    df['Log_Glucose'] = np.log1p(df['Glucose'])\n",
    "    df['Log_BMI'] = np.log1p(df['BMI'])\n",
    "    \n",
    "    return df\n"
   ]
  },
  {
   "cell_type": "markdown",
   "id": "d78742e5",
   "metadata": {},
   "source": [
    "This code converts the training, validation, and test data arrays back into DataFrames to facilitate easy manipulation, then applies the previously defined feature engineering function to enhance the feature set:\n",
    "\n",
    "1. **Convert Arrays to DataFrames**: \n",
    "   - The training data (`X_train_bl`), validation data (`X_val`), and test data (`X_test`) are converted from NumPy arrays back into pandas DataFrames. This makes it easier to work with and manipulate the data, while retaining column names from the original `X_train` dataset.\n",
    "\n",
    "2. **Apply Feature Engineering**:\n",
    "   - The `add_engineered_features` function is applied to the training, validation, and test DataFrames (`X_train_df`, `X_val_df`, `X_test_df`). This function generates new features such as interaction terms and log-transformed values for `Glucose` and `BMI`.\n",
    "\n",
    "The resulting DataFrames (`X_train_fe`, `X_val_fe`, `X_test_fe`) now include both the original and engineered features, ready for use in training and evaluating machine learning models."
   ]
  },
  {
   "cell_type": "code",
   "execution_count": 14,
   "id": "84337a51",
   "metadata": {},
   "outputs": [],
   "source": [
    "#  convert arrays back to DataFrames\n",
    "X_train_df = pd.DataFrame(X_train_bl, columns=X_train.columns)\n",
    "X_val_df = pd.DataFrame(X_val, columns=X_train.columns)\n",
    "X_test_df = pd.DataFrame(X_test, columns=X_train.columns)\n",
    "\n",
    "# Apply feature engineering\n",
    "X_train_fe = add_engineered_features(X_train_df)\n",
    "X_val_fe = add_engineered_features(X_val_df)\n",
    "X_test_fe = add_engineered_features(X_test_df)\n"
   ]
  },
  {
   "cell_type": "markdown",
   "id": "e937802c",
   "metadata": {},
   "source": [
    "This code retrains the ensemble model on the newly engineered features and evaluates its performance on the validation set:\n",
    "\n",
    "1. **Train on Engineered Features**:\n",
    "   - The ensemble model is retrained using the feature-engineered training data (`X_train_fe`), which includes additional interaction terms and log-transformed features.\n",
    "\n",
    "2. **Prediction and Evaluation**:\n",
    "   - The model makes predictions on the validation set (`X_val_fe`), which also contains the engineered features.\n",
    "   - The performance of the ensemble model is then evaluated using the `classification_report`, which provides precision, recall, F1-score, and support for both classes (diabetic and non-diabetic).\n",
    "\n",
    "By incorporating the engineered features, the model may capture more complex relationships in the data, potentially improving predictive performance.\n"
   ]
  },
  {
   "cell_type": "code",
   "execution_count": 18,
   "id": "0aa60089",
   "metadata": {},
   "outputs": [
    {
     "name": "stderr",
     "output_type": "stream",
     "text": [
      "c:\\Users\\roar7\\.conda\\envs\\LearnAI\\lib\\site-packages\\xgboost\\training.py:183: UserWarning: [14:46:00] WARNING: C:\\actions-runner\\_work\\xgboost\\xgboost\\src\\learner.cc:738: \n",
      "Parameters: { \"use_label_encoder\" } are not used.\n",
      "\n",
      "  bst.update(dtrain, iteration=i, fobj=obj)\n"
     ]
    },
    {
     "name": "stdout",
     "output_type": "stream",
     "text": [
      "Ensemble after Feature Engineering:\n",
      "               precision    recall  f1-score   support\n",
      "\n",
      "           0       0.90      0.72      0.80        75\n",
      "           1       0.62      0.85      0.72        40\n",
      "\n",
      "    accuracy                           0.77       115\n",
      "   macro avg       0.76      0.78      0.76       115\n",
      "weighted avg       0.80      0.77      0.77       115\n",
      "\n"
     ]
    },
    {
     "name": "stderr",
     "output_type": "stream",
     "text": [
      "c:\\Users\\roar7\\.conda\\envs\\LearnAI\\lib\\site-packages\\sklearn\\linear_model\\_logistic.py:465: ConvergenceWarning: lbfgs failed to converge (status=1):\n",
      "STOP: TOTAL NO. OF ITERATIONS REACHED LIMIT.\n",
      "\n",
      "Increase the number of iterations (max_iter) or scale the data as shown in:\n",
      "    https://scikit-learn.org/stable/modules/preprocessing.html\n",
      "Please also refer to the documentation for alternative solver options:\n",
      "    https://scikit-learn.org/stable/modules/linear_model.html#logistic-regression\n",
      "  n_iter_i = _check_optimize_result(\n"
     ]
    },
    {
     "data": {
      "image/png": "[encoded data removed]",
      "text/plain": [
       "<Figure size 640x480 with 2 Axes>"
      ]
     },
     "metadata": {},
     "output_type": "display_data"
    }
   ],
   "source": [
    "# Train again on engineered features\n",
    "ensemble.fit(X_train_fe, y_train_bl)\n",
    "\n",
    "# Predict and evaluate\n",
    "from sklearn.metrics import classification_report\n",
    "\n",
    "y_val_pred_fe = ensemble.predict(X_val_fe)\n",
    "print(\"Ensemble after Feature Engineering:\\n\", classification_report(y_val, y_val_pred_fe))\n",
    "from sklearn.metrics import confusion_matrix, ConfusionMatrixDisplay\n",
    "\n",
    "# Plot confusion matrix\n",
    "cm = confusion_matrix(y_val, y_val_pred_fe)\n",
    "disp = ConfusionMatrixDisplay(confusion_matrix=cm, display_labels=[\"Non-Diabetic\", \"Diabetic\"])\n",
    "disp.plot(cmap='Blues')\n",
    "plt.title(\"Confusion Matrix - Final Ensemble\")\n",
    "plt.show()\n"
   ]
  },
  {
   "cell_type": "markdown",
   "id": "9c017bf8",
   "metadata": {},
   "source": [
    "This code visualizes the feature importances from the best XGBoost model found during the randomized search:\n",
    "\n",
    "1. **Get the Best Model**:\n",
    "   - The best XGBoost model (`best_xgb`) is retrieved from the results of the `RandomizedSearchCV` object, which contains the optimal hyperparameters found during the search.\n",
    "\n",
    "2. **Plot Feature Importance**:\n",
    "   - The `plot_importance` function from XGBoost is used to plot the importance of the top 10 features based on the 'gain' metric, which measures the average improvement in the model's performance when a feature is used in a split. This highlights which features contribute the most to the model's decision-making process.\n",
    "   - The plot is displayed with the `plt.show()` function, with a title indicating that it shows the \"Top 10 Feature Importances (Gain) from XGBoost.\"\n",
    "\n",
    "This visualization helps identify the most influential features in the XGBoost model, providing insights into which variables are most important for predicting diabetes outcomes.\n"
   ]
  },
  {
   "cell_type": "code",
   "execution_count": 16,
   "id": "b4d34196",
   "metadata": {},
   "outputs": [
    {
     "data": {
      "image/png": "[encoded data removed]",
      "text/plain": [
       "<Figure size 640x480 with 1 Axes>"
      ]
     },
     "metadata": {},
     "output_type": "display_data"
    }
   ],
   "source": [
    "import matplotlib.pyplot as plt\n",
    "import xgboost as xgb\n",
    "\n",
    "# Get the best XGBoost model from RandomizedSearchCV\n",
    "best_xgb = random_search.best_estimator_\n",
    "\n",
    "# Plot feature importance\n",
    "xgb.plot_importance(best_xgb, max_num_features=10, importance_type='gain', show_values=True)\n",
    "plt.title(\"Top 10 Feature Importances (Gain) from XGBoost\")\n",
    "plt.show()\n"
   ]
  },
  {
   "cell_type": "markdown",
   "id": "dd53e5ec",
   "metadata": {},
   "source": [
    "This code extracts and prints the feature importances from the best XGBoost model, specifically using the 'gain' importance type:\n",
    "\n",
    "1. **Get the Best XGBoost Model**:\n",
    "   - The best model (`best_xgb`) is retrieved from the results of the `RandomizedSearchCV` object, which contains the tuned XGBoost model.\n",
    "\n",
    "2. **Extract Feature Importances**:\n",
    "   - The `get_score` method is used to extract feature importances from the model’s booster, specifying the importance type as 'gain'. The 'gain' metric reflects the average improvement in the model’s performance when a feature is used in a split.\n",
    "\n",
    "3. **Sort Feature Importances**:\n",
    "   - The extracted feature importances are converted into a sorted list of tuples (`sorted_importance`), where each tuple contains a feature and its corresponding importance score. The sorting is done in descending order based on the importance score.\n",
    "\n",
    "4. **Print Feature Importances**:\n",
    "   - The feature importances are printed in a readable format, displaying each feature's name and its corresponding importance score (rounded to 4 decimal places).\n",
    "\n",
    "This process helps in understanding the contribution of each feature to the model's predictions and provides insights into which features are most valuable for the classification task.\n"
   ]
  },
  {
   "cell_type": "code",
   "execution_count": 17,
   "id": "15ac2c5d",
   "metadata": {},
   "outputs": [
    {
     "name": "stdout",
     "output_type": "stream",
     "text": [
      "Feature Importances (by gain):\n",
      "Glucose: 2.2948\n",
      "BMI: 1.3970\n",
      "Age: 1.3170\n",
      "DiabetesPedigreeFunction: 1.0606\n",
      "SkinThickness: 1.0276\n",
      "Pregnancies: 0.9963\n",
      "BloodPressure: 0.9478\n"
     ]
    }
   ],
   "source": [
    "# Get the best XGBoost model\n",
    "best_xgb = random_search.best_estimator_\n",
    "\n",
    "# Extract feature importances as a dictionary (using 'gain' importance type)\n",
    "importance_dict = best_xgb.get_booster().get_score(importance_type='gain')\n",
    "\n",
    "# Convert to a sorted list (feature, importance)\n",
    "sorted_importance = sorted(importance_dict.items(), key=lambda x: x[1], reverse=True)\n",
    "\n",
    "# Print feature importances\n",
    "print(\"Feature Importances (by gain):\")\n",
    "for feature, importance in sorted_importance:\n",
    "    print(f\"{feature}: {importance:.4f}\")\n"
   ]
  },
  {
   "cell_type": "markdown",
   "id": "6c6db3c0",
   "metadata": {},
   "source": [
    "## Conclusion\n",
    "\n",
    "In this project, I applied a comprehensive workflow to predict diabetes outcomes using various ML techniques.\n",
    "\n",
    "1. **Data Preprocessing**: \n",
    "   - I started by cleaning the dataset, handling missing values, and addressing invalid zeros in key features such as `Glucose`, `BloodPressure`, `SkinThickness`, `Insulin`, and `BMI`.\n",
    "   - I also performed imputation of missing values using the median and resampled the data to address class imbalance with SMOTE.\n",
    "\n",
    "2. **Feature Engineering**:\n",
    "   - To improve the predictive power of the model, I engineered new features by creating interaction terms and applying log transformations to skewed features like `Glucose` and `BMI`.\n",
    "\n",
    "3. **Model Training and Hyperparameter Tuning**:\n",
    "   - I then trained an XGBoost model and tuned hyperparameters using `RandomizedSearchCV` in order to find the best model settings.\n",
    "   - I evaluated the model using precision, recall, and F1-score, adjusting the thresholds for classification as needed to improve recall.\n",
    "\n",
    "4. **Ensemble Modeling**:\n",
    "   - I combined three classifiers: Random Forest, XGBoost, and Logistic Regression, into a voting ensemble model in order to utilize the strengths of each different algorithm.\n",
    "\n",
    "5. **Advanced Resampling Techniques**:\n",
    "   - I then explored various advanced resampling techniques, such as **Borderline-SMOTE** and **SMOTEENN** to improve class balance, further boosting the performance of the ensemble model.\n",
    "\n",
    "6. **Feature Importance Analysis**:\n",
    "   - Using feature importance analysis, I identified the top features driving the model’s predictions. These key factors influence diabetes risk the most in my dataset.\n",
    "\n",
    "In conclusion, I followed a structured approach: data preprocessing, feature engineering, advanced model evaluation, and ensemble techniques, which allowed me to develop a model capable of predicting diabetes outcomes at a high level. In the future, fine-tuning additional models or exploring various other feature engineering methods could yield even better results. This project ultimately serves to demonstrate the power of combining traditional ML techniques with data preprocessing, feature engineering, and ensemble methods in order to tackle complex classification problems.\n"
   ]
  }
 ],
 "metadata": {
  "kernelspec": {
   "display_name": "LearnAI",
   "language": "python",
   "name": "python3"
  },
  "language_info": {
   "codemirror_mode": {
    "name": "ipython",
    "version": 3
   },
   "file_extension": ".py",
   "mimetype": "text/x-python",
   "name": "python",
   "nbconvert_exporter": "python",
   "pygments_lexer": "ipython3",
   "version": "3.10.16"
  }
 },
 "nbformat": 4,
 "nbformat_minor": 5
}
